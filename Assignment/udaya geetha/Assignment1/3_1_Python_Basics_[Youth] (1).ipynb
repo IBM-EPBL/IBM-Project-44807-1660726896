{
  "cells": [
    {
      "cell_type": "markdown",
      "metadata": {
        "id": "q_jEPW8mneH3"
      },
      "source": [
        "# Python Basics\n",
        "\n",
        "In this notebook you'll learn about:\n",
        "\n",
        "\n",
        "1.   Print function\n",
        "2.   Variables\n",
        "3.   Keywords\n",
        "4.   Data Types\n",
        "5.   Commments\n"
      ]
    },
    {
      "cell_type": "markdown",
      "metadata": {
        "id": "hJQzzqQFQ6x2"
      },
      "source": [
        "## Print\n",
        "\n",
        "Display data on the screen.\n"
      ]
    },
    {
      "cell_type": "code",
      "execution_count": 1,
      "metadata": {
        "colab": {
          "base_uri": "https://localhost:8080/"
        },
        "id": "to657r7IREQy",
        "outputId": "471f6032-51de-414d-82c1-21c6aac4c917"
      },
      "outputs": [
        {
          "output_type": "stream",
          "name": "stdout",
          "text": [
            "Hello, world!\n"
          ]
        }
      ],
      "source": [
        "\n",
        "\n",
        "print('Hello, world!')\n",
        "\n"
      ]
    },
    {
      "cell_type": "code",
      "execution_count": 2,
      "metadata": {
        "colab": {
          "base_uri": "https://localhost:8080/"
        },
        "id": "1XH4PU7xxZNs",
        "outputId": "e800ce2f-1f36-49ab-940d-669bacfe971a"
      },
      "outputs": [
        {
          "output_type": "stream",
          "name": "stdout",
          "text": [
            "elumalai\n"
          ]
        }
      ],
      "source": [
        "# print your name on the screen using print function\n",
        "print('elumalai')"
      ]
    },
    {
      "cell_type": "markdown",
      "metadata": {
        "id": "yOMr7JKTqYle"
      },
      "source": [
        "## Variable\n",
        "Variable is nothing but a value stored in memory with an associated name. \n",
        "\n",
        "\n",
        "### Syntax\n",
        "\n",
        "\n",
        "```\n",
        "  variable_name = variable_value\n",
        "```"
      ]
    },
    {
      "cell_type": "code",
      "execution_count": 3,
      "metadata": {
        "colab": {
          "base_uri": "https://localhost:8080/",
          "height": 131
        },
        "id": "ppLwIZaYm4U9",
        "outputId": "a5cc3544-57e1-4f48-8a0e-d23b3948372f"
      },
      "outputs": [
        {
          "output_type": "error",
          "ename": "SyntaxError",
          "evalue": "ignored",
          "traceback": [
            "\u001b[0;36m  File \u001b[0;32m\"<ipython-input-3-6ec56219e1fe>\"\u001b[0;36m, line \u001b[0;32m3\u001b[0m\n\u001b[0;31m    var score = 0;\u001b[0m\n\u001b[0m            ^\u001b[0m\n\u001b[0;31mSyntaxError\u001b[0m\u001b[0;31m:\u001b[0m invalid syntax\n"
          ]
        }
      ],
      "source": [
        "# create a new variable named marks and store 100 in it\n",
        "\n"
      ]
    },
    {
      "cell_type": "markdown",
      "metadata": {
        "id": "LnqpnYU1nl2z"
      },
      "source": [
        "### Print a variable"
      ]
    },
    {
      "cell_type": "code",
      "execution_count": 4,
      "metadata": {
        "colab": {
          "base_uri": "https://localhost:8080/"
        },
        "id": "tYKkjNoTn1Qz",
        "outputId": "03db33af-92f1-47d0-903a-d139ffb036e1"
      },
      "outputs": [
        {
          "output_type": "stream",
          "name": "stdout",
          "text": [
            "100\n"
          ]
        }
      ],
      "source": [
        "# print marks variable\n",
        "print(100)"
      ]
    },
    {
      "cell_type": "code",
      "execution_count": 6,
      "metadata": {
        "colab": {
          "base_uri": "https://localhost:8080/"
        },
        "id": "YIz-hsnQuI_m",
        "outputId": "8ff09e4d-ad6c-4fb4-b581-2a93ae6a717a"
      },
      "outputs": [
        {
          "output_type": "stream",
          "name": "stdout",
          "text": [
            "first_avenger as Steve Rogers \n"
          ]
        }
      ],
      "source": [
        "# declaamed first_avenger as \"Steve Rogers\"re a variable n\n",
        "n = \"first_avenger as Steve Rogers \"\n",
        "print(n)\n",
        "\n"
      ]
    },
    {
      "cell_type": "markdown",
      "metadata": {
        "id": "TVyHsxUEoL9D"
      },
      "source": [
        "There are multiple way to print a variable. Such as:\n",
        "\n",
        "#### Syntax to print a variable\n",
        "`print(variable)`"
      ]
    },
    {
      "cell_type": "code",
      "execution_count": 7,
      "metadata": {
        "colab": {
          "base_uri": "https://localhost:8080/"
        },
        "id": "KMZnmgR9n_2c",
        "outputId": "f7d47e6d-e473-4864-c665-559316e9fc9c"
      },
      "outputs": [
        {
          "output_type": "stream",
          "name": "stdout",
          "text": [
            "steve rogers\n"
          ]
        }
      ],
      "source": [
        "# print the variable first_avenger\n",
        "print('steve rogers')"
      ]
    },
    {
      "cell_type": "markdown",
      "metadata": {
        "id": "EMXatdoEoc14"
      },
      "source": [
        "#### Syntax to print a variable along with a sentence (string).\n",
        "\n",
        "` print(\"Hello\", variable_name)`"
      ]
    },
    {
      "cell_type": "code",
      "execution_count": 8,
      "metadata": {
        "colab": {
          "base_uri": "https://localhost:8080/"
        },
        "id": "E46PVBeMoDaX",
        "outputId": "1373af59-5b80-4ca6-ad32-bb2859c6fe7c"
      },
      "outputs": [
        {
          "output_type": "stream",
          "name": "stdout",
          "text": [
            "First avengers is: steve rogers\n"
          ]
        }
      ],
      "source": [
        "# Print \"First avenger was \" followed by the first_avenger variable\n",
        "n=\"First avengers is: steve rogers\"\n",
        "print(n)"
      ]
    },
    {
      "cell_type": "markdown",
      "metadata": {
        "id": "BvdIDU38pS6t"
      },
      "source": [
        "## Keywords\n",
        "Keywords are reserved words which cannot be used as variable name. Such as:\n",
        "\n",
        "\n",
        "*   print\n",
        "*   and\n",
        "*   as\n",
        "*   in\n",
        "*   global\n",
        "\n",
        "You don't have to memorize a list of keywords. To print list of keywords, run the next code snippet.\n",
        "\n",
        "PS: You don't have to understand next code snippet as of now, that's only for your knowledge.\n",
        "\n"
      ]
    },
    {
      "cell_type": "code",
      "execution_count": 10,
      "metadata": {
        "colab": {
          "base_uri": "https://localhost:8080/"
        },
        "id": "xVv0jXNXpE1w",
        "outputId": "f7c649c8-0eb3-447a-901b-36928619c02b"
      },
      "outputs": [
        {
          "output_type": "stream",
          "name": "stdout",
          "text": [
            "['False', 'None', 'True', 'and', 'as', 'assert', 'async', 'await', 'break', 'class', 'continue', 'def', 'del', 'elif', 'else', 'except', 'finally', 'for', 'from', 'global', 'if', 'import', 'in', 'is', 'lambda', 'nonlocal', 'not', 'or', 'pass', 'raise', 'return', 'try', 'while', 'with', 'yield']\n",
            "['False', 'None', 'True', 'and', 'as', 'assert', 'async', 'await', 'break', 'class', 'continue', 'def', 'del', 'elif', 'else', 'except', 'finally', 'for', 'from', 'global', 'if', 'import', 'in', 'is', 'lambda', 'nonlocal', 'not', 'or', 'pass', 'raise', 'return', 'try', 'while', 'with', 'yield']\n"
          ]
        }
      ],
      "source": [
        "# import a module named keyword, more on modules in upcoming lessons\n",
        "\n",
        "import keyword\n",
        "print(keyword.kwlist)\n",
        "# from keyword module print keyword list\n",
        "import keyword\n",
        "print(keyword.kwlist)"
      ]
    },
    {
      "cell_type": "markdown",
      "metadata": {
        "id": "jv36bGKXGBH9"
      },
      "source": [
        "## Data Types\n",
        "\n",
        "\n",
        "\n",
        "*   Integer\n",
        "*   Float\n",
        "*   String\n",
        "*   Boolean\n",
        "\n"
      ]
    },
    {
      "cell_type": "markdown",
      "metadata": {
        "id": "8mCPQJWtGQ4G"
      },
      "source": [
        "### Integer\n",
        "Positive or negative whole numbers with no decimal point.\n"
      ]
    },
    {
      "cell_type": "code",
      "execution_count": 13,
      "metadata": {
        "colab": {
          "base_uri": "https://localhost:8080/"
        },
        "id": "AHEuy2_OuDyF",
        "outputId": "bc4a715b-0b81-4938-d0b2-2db0873b1415"
      },
      "outputs": [
        {
          "output_type": "execute_result",
          "data": {
            "text/plain": [
              "13"
            ]
          },
          "metadata": {},
          "execution_count": 13
        }
      ],
      "source": [
        "# create a variable named count and store 13 in it then print it\n",
        "\n",
        "dct = {'x': 1, 'y': 13, 'z': 3}\n",
        "dct\n",
        "{'y': 2, 'x': 1, 'z': 3}\n",
        "dct[\"y\"]\n",
        "13\n"
      ]
    },
    {
      "cell_type": "markdown",
      "metadata": {
        "id": "RtkvP52WHJUY"
      },
      "source": [
        "### Float\n",
        "\n",
        "Real numbers which are written with a decimal point.\n"
      ]
    },
    {
      "cell_type": "code",
      "execution_count": 14,
      "metadata": {
        "colab": {
          "base_uri": "https://localhost:8080/"
        },
        "id": "fSPjDyfYHEuY",
        "outputId": "dcd96e7a-f7b6-45b2-896b-e486ff2bc122"
      },
      "outputs": [
        {
          "output_type": "stream",
          "name": "stdout",
          "text": [
            "4.5\n"
          ]
        }
      ],
      "source": [
        "# create a variable named float and store the distance between your school and your home then print it.\n",
        "\n",
        " \n",
        "num = float(4.5)\n",
        "print(num)\n"
      ]
    },
    {
      "cell_type": "markdown",
      "metadata": {
        "id": "WWOKR9K7HR9c"
      },
      "source": [
        "### String\n",
        "\n",
        "Sequence of characters. It supports alphabets as well as special characters like $, #, * etc. Don’t forget to add single or double quotes, quotes are not part of string. It only tell computer where string begins and ends."
      ]
    },
    {
      "cell_type": "code",
      "execution_count": 18,
      "metadata": {
        "colab": {
          "base_uri": "https://localhost:8080/"
        },
        "id": "DPZKC5K3HPrX",
        "outputId": "172681b6-a20f-43db-c45f-0bf0b5cd368a"
      },
      "outputs": [
        {
          "output_type": "stream",
          "name": "stdout",
          "text": [
            "elumalai\n"
          ]
        }
      ],
      "source": [
        "# create a variable named as name and store your name and then print it\n",
        "\n",
        "first_name = \"elumalai\"\n",
        "\n",
        "print(first_name)"
      ]
    },
    {
      "cell_type": "markdown",
      "metadata": {
        "id": "LryLTjqXHx_L"
      },
      "source": [
        "### Boolean\n",
        "\n",
        "A boolean can have any of `True` or `False` value only. "
      ]
    },
    {
      "cell_type": "code",
      "execution_count": 19,
      "metadata": {
        "colab": {
          "base_uri": "https://localhost:8080/"
        },
        "id": "0bT7qMBxHqsc",
        "outputId": "b7a322dc-6124-43df-a644-e8617e09b2dd"
      },
      "outputs": [
        {
          "output_type": "stream",
          "name": "stdout",
          "text": [
            "Are you hungry:true\n"
          ]
        }
      ],
      "source": [
        "# create a variable named are_you_hunry and store True then print it\n",
        "\n",
        "var = \"Are you hungry:true\"\n",
        "print(var)\n"
      ]
    },
    {
      "cell_type": "markdown",
      "metadata": {
        "id": "2xRwud75JH-_"
      },
      "source": [
        "## Comments\n",
        "\n",
        "Comments are the part of your code, which you don’t want to execute.\n",
        "\n",
        "\n",
        "*   Single Line Comment\n",
        "*   Multi Line Comment"
      ]
    },
    {
      "cell_type": "markdown",
      "metadata": {
        "id": "7bEbg1afJRT9"
      },
      "source": [
        "### Single Line Comment"
      ]
    },
    {
      "cell_type": "code",
      "execution_count": 20,
      "metadata": {
        "colab": {
          "base_uri": "https://localhost:8080/"
        },
        "id": "-L8DxWhsH8DE",
        "outputId": "198c2b36-9afd-431a-e716-15ff4c44d892"
      },
      "outputs": [
        {
          "output_type": "stream",
          "name": "stdout",
          "text": [
            "How you doing?\n"
          ]
        }
      ],
      "source": [
        "print(\"How you doing?\") # this code prints \"How you doing?\""
      ]
    },
    {
      "cell_type": "markdown",
      "metadata": {
        "id": "0atlW1v4Jegw"
      },
      "source": [
        "### Multi Line Comment"
      ]
    },
    {
      "cell_type": "code",
      "execution_count": 22,
      "metadata": {
        "colab": {
          "base_uri": "https://localhost:8080/"
        },
        "id": "SGUKO1JuJcqt",
        "outputId": "9a0b2417-440c-4fc3-aa6a-ea86541693f0"
      },
      "outputs": [
        {
          "output_type": "stream",
          "name": "stdout",
          "text": [
            "Hello World!\n"
          ]
        }
      ],
      "source": [
        "\"\"\"\n",
        "This is is how you can\n",
        "add multiline comments.\n",
        "Code after the the quotes will be executed normally.  \n",
        "\"\"\"\n",
        "#This is a comment\n",
        "#written in\n",
        "#more than just one line\n",
        "\n",
        "print(\"Hello World!\")"
      ]
    },
    {
      "cell_type": "code",
      "execution_count": 23,
      "metadata": {
        "colab": {
          "base_uri": "https://localhost:8080/"
        },
        "id": "P90SyvexJ3PW",
        "outputId": "cfd53684-6757-46c8-f456-b7015cb05f5c"
      },
      "outputs": [
        {
          "output_type": "stream",
          "name": "stdout",
          "text": [
            "Hello, World!\n"
          ]
        }
      ],
      "source": [
        "#This is a comment\n",
        "#written in\n",
        "#more than just one line\n",
        "print(\"Hello, World!\")"
      ]
    }
  ],
  "metadata": {
    "colab": {
      "collapsed_sections": [],
      "provenance": [],
      "toc_visible": true
    },
    "kernelspec": {
      "display_name": "Python 3 (ipykernel)",
      "language": "python",
      "name": "python3"
    },
    "language_info": {
      "codemirror_mode": {
        "name": "ipython",
        "version": 3
      },
      "file_extension": ".py",
      "mimetype": "text/x-python",
      "name": "python",
      "nbconvert_exporter": "python",
      "pygments_lexer": "ipython3",
      "version": "3.9.7"
    }
  },
  "nbformat": 4,
  "nbformat_minor": 0
}